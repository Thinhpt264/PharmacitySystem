{
 "nbformat": 4,
 "nbformat_minor": 0,
 "metadata": {
  "colab": {
   "provenance": [],
   "mount_file_id": "1xCD6pcJeJKcltMbiWIesAdEmyInFtr8-",
   "authorship_tag": "ABX9TyPW8i6sorDdVk29QpI25Nci"
  },
  "kernelspec": {
   "name": "python3",
   "display_name": "Python 3 (ipykernel)",
   "language": "python"
  },
  "language_info": {
   "name": "python"
  }
 },
 "cells": [
  {
   "cell_type": "code",
   "metadata": {
    "id": "OqdWaQ-YY8nf",
    "ExecuteTime": {
     "end_time": "2025-06-21T08:09:25.729352Z",
     "start_time": "2025-06-21T08:09:23.224497Z"
    }
   },
   "source": [
    "# callAPI.py\n",
    "\n",
    "from fastapi import FastAPI\n",
    "from pydantic import BaseModel\n",
    "import joblib\n",
    "import pandas as pd\n",
    "\n",
    "# Load model và dữ liệu\n",
    "vectorizer = joblib.load(\"/content/drive/MyDrive/Colab Notebooks/GenarateAPI/vectorizer.pkl\")\n",
    "model = joblib.load(\"/content/drive/MyDrive/Colab Notebooks/GenarateAPI/nearest_model.pkl\")\n",
    "df = pd.read_csv(\"/content/drive/MyDrive/Colab Notebooks/GenarateAPI/drugs_side_effects_drugs_com.csv\")\n",
    "\n",
    "app = FastAPI()\n",
    "\n",
    "class SymptomInput(BaseModel):\n",
    "    symptoms: list[str]\n",
    "\n",
    "@app.post(\"/predict\")\n",
    "def predict_drugs(input: SymptomInput):\n",
    "    query = \" \".join(input.symptoms).lower()\n",
    "    x_query = vectorizer.transform([query])\n",
    "    distances, indices = model.kneighbors(x_query, n_neighbors=5)\n",
    "    results = df.iloc[indices[0]][[\"drug_name\", \"medical_condition\", \"rating\"]].to_dict(orient=\"records\")\n",
    "    return {\"input\": input.symptoms, \"suggested_drugs\": results}\n"
   ],
   "outputs": [
    {
     "ename": "FileNotFoundError",
     "evalue": "[Errno 2] No such file or directory: '/content/drive/MyDrive/Colab Notebooks/GenarateAPI/vectorizer.pkl'",
     "output_type": "error",
     "traceback": [
      "\u001B[31m---------------------------------------------------------------------------\u001B[39m",
      "\u001B[31mFileNotFoundError\u001B[39m                         Traceback (most recent call last)",
      "\u001B[36mCell\u001B[39m\u001B[36m \u001B[39m\u001B[32mIn[1]\u001B[39m\u001B[32m, line 9\u001B[39m\n\u001B[32m      6\u001B[39m \u001B[38;5;28;01mimport\u001B[39;00m\u001B[38;5;250m \u001B[39m\u001B[34;01mpandas\u001B[39;00m\u001B[38;5;250m \u001B[39m\u001B[38;5;28;01mas\u001B[39;00m\u001B[38;5;250m \u001B[39m\u001B[34;01mpd\u001B[39;00m\n\u001B[32m      8\u001B[39m \u001B[38;5;66;03m# Load model và dữ liệu\u001B[39;00m\n\u001B[32m----> \u001B[39m\u001B[32m9\u001B[39m vectorizer = joblib.load(\u001B[33m\"\u001B[39m\u001B[33m/content/drive/MyDrive/Colab Notebooks/GenarateAPI/vectorizer.pkl\u001B[39m\u001B[33m\"\u001B[39m)\n\u001B[32m     10\u001B[39m model = joblib.load(\u001B[33m\"\u001B[39m\u001B[33m/content/drive/MyDrive/Colab Notebooks/GenarateAPI/nearest_model.pkl\u001B[39m\u001B[33m\"\u001B[39m)\n\u001B[32m     11\u001B[39m df = pd.read_csv(\u001B[33m\"\u001B[39m\u001B[33m/content/drive/MyDrive/Colab Notebooks/GenarateAPI/drugs_side_effects_drugs_com.csv\u001B[39m\u001B[33m\"\u001B[39m)\n",
      "\u001B[36mFile \u001B[39m\u001B[32m~\\miniconda3\\Lib\\site-packages\\joblib\\numpy_pickle.py:735\u001B[39m, in \u001B[36mload\u001B[39m\u001B[34m(filename, mmap_mode, ensure_native_byte_order)\u001B[39m\n\u001B[32m    733\u001B[39m         obj = _unpickle(fobj, ensure_native_byte_order=ensure_native_byte_order)\n\u001B[32m    734\u001B[39m \u001B[38;5;28;01melse\u001B[39;00m:\n\u001B[32m--> \u001B[39m\u001B[32m735\u001B[39m     \u001B[38;5;28;01mwith\u001B[39;00m \u001B[38;5;28mopen\u001B[39m(filename, \u001B[33m\"\u001B[39m\u001B[33mrb\u001B[39m\u001B[33m\"\u001B[39m) \u001B[38;5;28;01mas\u001B[39;00m f:\n\u001B[32m    736\u001B[39m         \u001B[38;5;28;01mwith\u001B[39;00m _validate_fileobject_and_memmap(f, filename, mmap_mode) \u001B[38;5;28;01mas\u001B[39;00m (\n\u001B[32m    737\u001B[39m             fobj,\n\u001B[32m    738\u001B[39m             validated_mmap_mode,\n\u001B[32m    739\u001B[39m         ):\n\u001B[32m    740\u001B[39m             \u001B[38;5;28;01mif\u001B[39;00m \u001B[38;5;28misinstance\u001B[39m(fobj, \u001B[38;5;28mstr\u001B[39m):\n\u001B[32m    741\u001B[39m                 \u001B[38;5;66;03m# if the returned file object is a string, this means we\u001B[39;00m\n\u001B[32m    742\u001B[39m                 \u001B[38;5;66;03m# try to load a pickle file generated with an version of\u001B[39;00m\n\u001B[32m    743\u001B[39m                 \u001B[38;5;66;03m# Joblib so we load it with joblib compatibility function.\u001B[39;00m\n",
      "\u001B[31mFileNotFoundError\u001B[39m: [Errno 2] No such file or directory: '/content/drive/MyDrive/Colab Notebooks/GenarateAPI/vectorizer.pkl'"
     ]
    }
   ],
   "execution_count": 1
  },
  {
   "cell_type": "code",
   "source": "",
   "metadata": {
    "colab": {
     "base_uri": "https://localhost:8080/",
     "height": 616
    },
    "id": "jtY5--h1dbFU",
    "executionInfo": {
     "status": "error",
     "timestamp": 1750492636616,
     "user_tz": -420,
     "elapsed": 8454,
     "user": {
      "displayName": "Mai Xuân Thức",
      "userId": "10824137530453498560"
     }
    },
    "outputId": "4611c873-5558-4ca0-ca48-b813897868c0"
   },
   "execution_count": 8,
   "outputs": [
    {
     "output_type": "stream",
     "name": "stdout",
     "text": [
      "Collecting pyngrok\n",
      "  Downloading pyngrok-7.2.11-py3-none-any.whl.metadata (9.4 kB)\n",
      "Requirement already satisfied: nest-asyncio in /usr/local/lib/python3.11/dist-packages (1.6.0)\n",
      "Requirement already satisfied: PyYAML>=5.1 in /usr/local/lib/python3.11/dist-packages (from pyngrok) (6.0.2)\n",
      "Downloading pyngrok-7.2.11-py3-none-any.whl (25 kB)\n",
      "Installing collected packages: pyngrok\n",
      "Successfully installed pyngrok-7.2.11\n"
     ]
    },
    {
     "output_type": "stream",
     "name": "stderr",
     "text": [
      "ERROR:pyngrok.process.ngrok:t=2025-06-21T07:57:16+0000 lvl=eror msg=\"failed to reconnect session\" obj=tunnels.session err=\"authentication failed: Usage of ngrok requires a verified account and authtoken.\\n\\nSign up for an account: https://dashboard.ngrok.com/signup\\nInstall your authtoken: https://dashboard.ngrok.com/get-started/your-authtoken\\r\\n\\r\\nERR_NGROK_4018\\r\\n\"\n",
      "ERROR:pyngrok.process.ngrok:t=2025-06-21T07:57:16+0000 lvl=eror msg=\"session closing\" obj=tunnels.session err=\"authentication failed: Usage of ngrok requires a verified account and authtoken.\\n\\nSign up for an account: https://dashboard.ngrok.com/signup\\nInstall your authtoken: https://dashboard.ngrok.com/get-started/your-authtoken\\r\\n\\r\\nERR_NGROK_4018\\r\\n\"\n",
      "ERROR:pyngrok.process.ngrok:t=2025-06-21T07:57:16+0000 lvl=eror msg=\"terminating with error\" obj=app err=\"authentication failed: Usage of ngrok requires a verified account and authtoken.\\n\\nSign up for an account: https://dashboard.ngrok.com/signup\\nInstall your authtoken: https://dashboard.ngrok.com/get-started/your-authtoken\\r\\n\\r\\nERR_NGROK_4018\\r\\n\"\n",
      "CRITICAL:pyngrok.process.ngrok:t=2025-06-21T07:57:16+0000 lvl=crit msg=\"command failed\" err=\"authentication failed: Usage of ngrok requires a verified account and authtoken.\\n\\nSign up for an account: https://dashboard.ngrok.com/signup\\nInstall your authtoken: https://dashboard.ngrok.com/get-started/your-authtoken\\r\\n\\r\\nERR_NGROK_4018\\r\\n\"\n"
     ]
    },
    {
     "output_type": "error",
     "ename": "PyngrokNgrokError",
     "evalue": "The ngrok process errored on start: authentication failed: Usage of ngrok requires a verified account and authtoken.\\n\\nSign up for an account: https://dashboard.ngrok.com/signup\\nInstall your authtoken: https://dashboard.ngrok.com/get-started/your-authtoken\\r\\n\\r\\nERR_NGROK_4018\\r\\n.",
     "traceback": [
      "\u001B[0;31m---------------------------------------------------------------------------\u001B[0m",
      "\u001B[0;31mPyngrokNgrokError\u001B[0m                         Traceback (most recent call last)",
      "\u001B[0;32m/tmp/ipython-input-8-2995234444.py\u001B[0m in \u001B[0;36m<cell line: 0>\u001B[0;34m()\u001B[0m\n\u001B[1;32m      5\u001B[0m \u001B[0;34m\u001B[0m\u001B[0m\n\u001B[1;32m      6\u001B[0m \u001B[0;32mfrom\u001B[0m \u001B[0mpyngrok\u001B[0m \u001B[0;32mimport\u001B[0m \u001B[0mngrok\u001B[0m\u001B[0;34m\u001B[0m\u001B[0;34m\u001B[0m\u001B[0m\n\u001B[0;32m----> 7\u001B[0;31m \u001B[0mpublic_url\u001B[0m \u001B[0;34m=\u001B[0m \u001B[0mngrok\u001B[0m\u001B[0;34m.\u001B[0m\u001B[0mconnect\u001B[0m\u001B[0;34m(\u001B[0m\u001B[0;36m8000\u001B[0m\u001B[0;34m)\u001B[0m\u001B[0;34m\u001B[0m\u001B[0;34m\u001B[0m\u001B[0m\n\u001B[0m\u001B[1;32m      8\u001B[0m \u001B[0mprint\u001B[0m\u001B[0;34m(\u001B[0m\u001B[0;34m\"🌐 Public API URL:\"\u001B[0m\u001B[0;34m,\u001B[0m \u001B[0mpublic_url\u001B[0m\u001B[0;34m)\u001B[0m\u001B[0;34m\u001B[0m\u001B[0;34m\u001B[0m\u001B[0m\n",
      "\u001B[0;32m/usr/local/lib/python3.11/dist-packages/pyngrok/ngrok.py\u001B[0m in \u001B[0;36mconnect\u001B[0;34m(addr, proto, name, pyngrok_config, **options)\u001B[0m\n\u001B[1;32m    383\u001B[0m     \u001B[0mlogger\u001B[0m\u001B[0;34m.\u001B[0m\u001B[0minfo\u001B[0m\u001B[0;34m(\u001B[0m\u001B[0;34mf\"Opening tunnel named: {name}\"\u001B[0m\u001B[0;34m)\u001B[0m\u001B[0;34m\u001B[0m\u001B[0;34m\u001B[0m\u001B[0m\n\u001B[1;32m    384\u001B[0m \u001B[0;34m\u001B[0m\u001B[0m\n\u001B[0;32m--> 385\u001B[0;31m     \u001B[0mapi_url\u001B[0m \u001B[0;34m=\u001B[0m \u001B[0mget_ngrok_process\u001B[0m\u001B[0;34m(\u001B[0m\u001B[0mpyngrok_config\u001B[0m\u001B[0;34m)\u001B[0m\u001B[0;34m.\u001B[0m\u001B[0mapi_url\u001B[0m\u001B[0;34m\u001B[0m\u001B[0;34m\u001B[0m\u001B[0m\n\u001B[0m\u001B[1;32m    386\u001B[0m \u001B[0;34m\u001B[0m\u001B[0m\n\u001B[1;32m    387\u001B[0m     \u001B[0mlogger\u001B[0m\u001B[0;34m.\u001B[0m\u001B[0mdebug\u001B[0m\u001B[0;34m(\u001B[0m\u001B[0;34mf\"Creating tunnel with options: {options}\"\u001B[0m\u001B[0;34m)\u001B[0m\u001B[0;34m\u001B[0m\u001B[0;34m\u001B[0m\u001B[0m\n",
      "\u001B[0;32m/usr/local/lib/python3.11/dist-packages/pyngrok/ngrok.py\u001B[0m in \u001B[0;36mget_ngrok_process\u001B[0;34m(pyngrok_config)\u001B[0m\n\u001B[1;32m    201\u001B[0m     \u001B[0minstall_ngrok\u001B[0m\u001B[0;34m(\u001B[0m\u001B[0mpyngrok_config\u001B[0m\u001B[0;34m)\u001B[0m\u001B[0;34m\u001B[0m\u001B[0;34m\u001B[0m\u001B[0m\n\u001B[1;32m    202\u001B[0m \u001B[0;34m\u001B[0m\u001B[0m\n\u001B[0;32m--> 203\u001B[0;31m     \u001B[0;32mreturn\u001B[0m \u001B[0mprocess\u001B[0m\u001B[0;34m.\u001B[0m\u001B[0mget_process\u001B[0m\u001B[0;34m(\u001B[0m\u001B[0mpyngrok_config\u001B[0m\u001B[0;34m)\u001B[0m\u001B[0;34m\u001B[0m\u001B[0;34m\u001B[0m\u001B[0m\n\u001B[0m\u001B[1;32m    204\u001B[0m \u001B[0;34m\u001B[0m\u001B[0m\n\u001B[1;32m    205\u001B[0m \u001B[0;34m\u001B[0m\u001B[0m\n",
      "\u001B[0;32m/usr/local/lib/python3.11/dist-packages/pyngrok/process.py\u001B[0m in \u001B[0;36mget_process\u001B[0;34m(pyngrok_config)\u001B[0m\n\u001B[1;32m    269\u001B[0m         \u001B[0;32mreturn\u001B[0m \u001B[0m_current_processes\u001B[0m\u001B[0;34m[\u001B[0m\u001B[0mpyngrok_config\u001B[0m\u001B[0;34m.\u001B[0m\u001B[0mngrok_path\u001B[0m\u001B[0;34m]\u001B[0m\u001B[0;34m\u001B[0m\u001B[0;34m\u001B[0m\u001B[0m\n\u001B[1;32m    270\u001B[0m \u001B[0;34m\u001B[0m\u001B[0m\n\u001B[0;32m--> 271\u001B[0;31m     \u001B[0;32mreturn\u001B[0m \u001B[0m_start_process\u001B[0m\u001B[0;34m(\u001B[0m\u001B[0mpyngrok_config\u001B[0m\u001B[0;34m)\u001B[0m\u001B[0;34m\u001B[0m\u001B[0;34m\u001B[0m\u001B[0m\n\u001B[0m\u001B[1;32m    272\u001B[0m \u001B[0;34m\u001B[0m\u001B[0m\n\u001B[1;32m    273\u001B[0m \u001B[0;34m\u001B[0m\u001B[0m\n",
      "\u001B[0;32m/usr/local/lib/python3.11/dist-packages/pyngrok/process.py\u001B[0m in \u001B[0;36m_start_process\u001B[0;34m(pyngrok_config)\u001B[0m\n\u001B[1;32m    445\u001B[0m \u001B[0;34m\u001B[0m\u001B[0m\n\u001B[1;32m    446\u001B[0m         \u001B[0;32mif\u001B[0m \u001B[0mngrok_process\u001B[0m\u001B[0;34m.\u001B[0m\u001B[0mstartup_error\u001B[0m \u001B[0;32mis\u001B[0m \u001B[0;32mnot\u001B[0m \u001B[0;32mNone\u001B[0m\u001B[0;34m:\u001B[0m\u001B[0;34m\u001B[0m\u001B[0;34m\u001B[0m\u001B[0m\n\u001B[0;32m--> 447\u001B[0;31m             raise PyngrokNgrokError(f\"The ngrok process errored on start: {ngrok_process.startup_error}.\",\n\u001B[0m\u001B[1;32m    448\u001B[0m                                     \u001B[0mngrok_process\u001B[0m\u001B[0;34m.\u001B[0m\u001B[0mlogs\u001B[0m\u001B[0;34m,\u001B[0m\u001B[0;34m\u001B[0m\u001B[0;34m\u001B[0m\u001B[0m\n\u001B[1;32m    449\u001B[0m                                     ngrok_process.startup_error)\n",
      "\u001B[0;31mPyngrokNgrokError\u001B[0m: The ngrok process errored on start: authentication failed: Usage of ngrok requires a verified account and authtoken.\\n\\nSign up for an account: https://dashboard.ngrok.com/signup\\nInstall your authtoken: https://dashboard.ngrok.com/get-started/your-authtoken\\r\\n\\r\\nERR_NGROK_4018\\r\\n."
     ]
    }
   ]
  }
 ]
}
